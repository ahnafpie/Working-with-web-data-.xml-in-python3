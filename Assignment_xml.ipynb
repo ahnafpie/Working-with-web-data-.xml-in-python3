{
 "cells": [
  {
   "cell_type": "markdown",
   "metadata": {},
   "source": [
    "The program will prompt for a URL, read the XML data from that URL using urllib and then parse and extract the comment counts from the XML data, compute the sum of the numbers in the file."
   ]
  },
  {
   "cell_type": "code",
   "execution_count": 2,
   "metadata": {},
   "outputs": [
    {
     "name": "stdout",
     "output_type": "stream",
     "text": [
      "Enter location: http://py4e-data.dr-chuck.net/comments_489172.xml\n",
      "Retrieving http://py4e-data.dr-chuck.net/comments_489172.xml\n",
      "Retrieved 4217 characters\n",
      "Count:  50\n",
      "Sum:  2463\n"
     ]
    }
   ],
   "source": [
    "import urllib.request, urllib.parse, urllib.error\n",
    "import xml.etree.ElementTree as ET\n",
    "\n",
    "link = input('Enter location: ')\n",
    "xmlf = urllib.request.urlopen(link).read().decode()\n",
    "print('Retrieving', link)\n",
    "print('Retrieved', len(xmlf), 'characters')\n",
    "\n",
    "data = ET.fromstring(xmlf)\n",
    "tags = data.findall('comments/comment')\n",
    "\n",
    "print('Count: ', len(tags))\n",
    "print('Sum: ', sum([int(tag.find('count').text) for tag in tags])) "
   ]
  }
 ],
 "metadata": {
  "kernelspec": {
   "display_name": "Python 3",
   "language": "python",
   "name": "python3"
  },
  "language_info": {
   "codemirror_mode": {
    "name": "ipython",
    "version": 3
   },
   "file_extension": ".py",
   "mimetype": "text/x-python",
   "name": "python",
   "nbconvert_exporter": "python",
   "pygments_lexer": "ipython3",
   "version": "3.8.2"
  }
 },
 "nbformat": 4,
 "nbformat_minor": 4
}
